{
 "cells": [
  {
   "cell_type": "markdown",
   "metadata": {},
   "source": [
    "# 导入需要的库"
   ]
  },
  {
   "cell_type": "code",
   "execution_count": 452,
   "metadata": {},
   "outputs": [],
   "source": [
    "import pandas as pd\n",
    "import numpy as np\n",
    "import matplotlib.pyplot as plt\n",
    "import seaborn as sns"
   ]
  },
  {
   "cell_type": "code",
   "execution_count": 453,
   "metadata": {},
   "outputs": [],
   "source": [
    "%matplotlib inline\n",
    "\n",
    "from IPython.core.interactiveshell import InteractiveShell\n",
    "InteractiveShell.ast_node_interactivity = \"all\"\n",
    "\n",
    "pd.set_option('display.max_rows',100)\n",
    "pd.set_option('display.max_columns',100)"
   ]
  },
  {
   "cell_type": "markdown",
   "metadata": {},
   "source": [
    "## 查看数据"
   ]
  },
  {
   "cell_type": "code",
   "execution_count": 454,
   "metadata": {},
   "outputs": [
    {
     "name": "stdout",
     "output_type": "stream",
     "text": [
      "<class 'pandas.core.frame.DataFrame'>\n",
      "Help on function read_csv in module pandas.io.parsers:\n",
      "\n",
      "read_csv(filepath_or_buffer: Union[str, pathlib.Path, IO[~AnyStr]], sep=',', delimiter=None, header='infer', names=None, index_col=None, usecols=None, squeeze=False, prefix=None, mangle_dupe_cols=True, dtype=None, engine=None, converters=None, true_values=None, false_values=None, skipinitialspace=False, skiprows=None, skipfooter=0, nrows=None, na_values=None, keep_default_na=True, na_filter=True, verbose=False, skip_blank_lines=True, parse_dates=False, infer_datetime_format=False, keep_date_col=False, date_parser=None, dayfirst=False, cache_dates=True, iterator=False, chunksize=None, compression='infer', thousands=None, decimal: str = '.', lineterminator=None, quotechar='\"', quoting=0, doublequote=True, escapechar=None, comment=None, encoding=None, dialect=None, error_bad_lines=True, warn_bad_lines=True, delim_whitespace=False, low_memory=True, memory_map=False, float_precision=None)\n",
      "    Read a comma-separated values (csv) file into DataFrame.\n",
      "    \n",
      "    Also supports optionally iterating or breaking of the file\n",
      "    into chunks.\n",
      "    \n",
      "    Additional help can be found in the online docs for\n",
      "    `IO Tools <https://pandas.pydata.org/pandas-docs/stable/user_guide/io.html>`_.\n",
      "    \n",
      "    Parameters\n",
      "    ----------\n",
      "    filepath_or_buffer : str, path object or file-like object\n",
      "        Any valid string path is acceptable. The string could be a URL. Valid\n",
      "        URL schemes include http, ftp, s3, gs, and file. For file URLs, a host is\n",
      "        expected. A local file could be: file://localhost/path/to/table.csv.\n",
      "    \n",
      "        If you want to pass in a path object, pandas accepts any ``os.PathLike``.\n",
      "    \n",
      "        By file-like object, we refer to objects with a ``read()`` method, such as\n",
      "        a file handler (e.g. via builtin ``open`` function) or ``StringIO``.\n",
      "    sep : str, default ','\n",
      "        Delimiter to use. If sep is None, the C engine cannot automatically detect\n",
      "        the separator, but the Python parsing engine can, meaning the latter will\n",
      "        be used and automatically detect the separator by Python's builtin sniffer\n",
      "        tool, ``csv.Sniffer``. In addition, separators longer than 1 character and\n",
      "        different from ``'\\s+'`` will be interpreted as regular expressions and\n",
      "        will also force the use of the Python parsing engine. Note that regex\n",
      "        delimiters are prone to ignoring quoted data. Regex example: ``'\\r\\t'``.\n",
      "    delimiter : str, default ``None``\n",
      "        Alias for sep.\n",
      "    header : int, list of int, default 'infer'\n",
      "        Row number(s) to use as the column names, and the start of the\n",
      "        data.  Default behavior is to infer the column names: if no names\n",
      "        are passed the behavior is identical to ``header=0`` and column\n",
      "        names are inferred from the first line of the file, if column\n",
      "        names are passed explicitly then the behavior is identical to\n",
      "        ``header=None``. Explicitly pass ``header=0`` to be able to\n",
      "        replace existing names. The header can be a list of integers that\n",
      "        specify row locations for a multi-index on the columns\n",
      "        e.g. [0,1,3]. Intervening rows that are not specified will be\n",
      "        skipped (e.g. 2 in this example is skipped). Note that this\n",
      "        parameter ignores commented lines and empty lines if\n",
      "        ``skip_blank_lines=True``, so ``header=0`` denotes the first line of\n",
      "        data rather than the first line of the file.\n",
      "    names : array-like, optional\n",
      "        List of column names to use. If the file contains a header row,\n",
      "        then you should explicitly pass ``header=0`` to override the column names.\n",
      "        Duplicates in this list are not allowed.\n",
      "    index_col : int, str, sequence of int / str, or False, default ``None``\n",
      "      Column(s) to use as the row labels of the ``DataFrame``, either given as\n",
      "      string name or column index. If a sequence of int / str is given, a\n",
      "      MultiIndex is used.\n",
      "    \n",
      "      Note: ``index_col=False`` can be used to force pandas to *not* use the first\n",
      "      column as the index, e.g. when you have a malformed file with delimiters at\n",
      "      the end of each line.\n",
      "    usecols : list-like or callable, optional\n",
      "        Return a subset of the columns. If list-like, all elements must either\n",
      "        be positional (i.e. integer indices into the document columns) or strings\n",
      "        that correspond to column names provided either by the user in `names` or\n",
      "        inferred from the document header row(s). For example, a valid list-like\n",
      "        `usecols` parameter would be ``[0, 1, 2]`` or ``['foo', 'bar', 'baz']``.\n",
      "        Element order is ignored, so ``usecols=[0, 1]`` is the same as ``[1, 0]``.\n",
      "        To instantiate a DataFrame from ``data`` with element order preserved use\n",
      "        ``pd.read_csv(data, usecols=['foo', 'bar'])[['foo', 'bar']]`` for columns\n",
      "        in ``['foo', 'bar']`` order or\n",
      "        ``pd.read_csv(data, usecols=['foo', 'bar'])[['bar', 'foo']]``\n",
      "        for ``['bar', 'foo']`` order.\n",
      "    \n",
      "        If callable, the callable function will be evaluated against the column\n",
      "        names, returning names where the callable function evaluates to True. An\n",
      "        example of a valid callable argument would be ``lambda x: x.upper() in\n",
      "        ['AAA', 'BBB', 'DDD']``. Using this parameter results in much faster\n",
      "        parsing time and lower memory usage.\n",
      "    squeeze : bool, default False\n",
      "        If the parsed data only contains one column then return a Series.\n",
      "    prefix : str, optional\n",
      "        Prefix to add to column numbers when no header, e.g. 'X' for X0, X1, ...\n",
      "    mangle_dupe_cols : bool, default True\n",
      "        Duplicate columns will be specified as 'X', 'X.1', ...'X.N', rather than\n",
      "        'X'...'X'. Passing in False will cause data to be overwritten if there\n",
      "        are duplicate names in the columns.\n",
      "    dtype : Type name or dict of column -> type, optional\n",
      "        Data type for data or columns. E.g. {'a': np.float64, 'b': np.int32,\n",
      "        'c': 'Int64'}\n",
      "        Use `str` or `object` together with suitable `na_values` settings\n",
      "        to preserve and not interpret dtype.\n",
      "        If converters are specified, they will be applied INSTEAD\n",
      "        of dtype conversion.\n",
      "    engine : {'c', 'python'}, optional\n",
      "        Parser engine to use. The C engine is faster while the python engine is\n",
      "        currently more feature-complete.\n",
      "    converters : dict, optional\n",
      "        Dict of functions for converting values in certain columns. Keys can either\n",
      "        be integers or column labels.\n",
      "    true_values : list, optional\n",
      "        Values to consider as True.\n",
      "    false_values : list, optional\n",
      "        Values to consider as False.\n",
      "    skipinitialspace : bool, default False\n",
      "        Skip spaces after delimiter.\n",
      "    skiprows : list-like, int or callable, optional\n",
      "        Line numbers to skip (0-indexed) or number of lines to skip (int)\n",
      "        at the start of the file.\n",
      "    \n",
      "        If callable, the callable function will be evaluated against the row\n",
      "        indices, returning True if the row should be skipped and False otherwise.\n",
      "        An example of a valid callable argument would be ``lambda x: x in [0, 2]``.\n",
      "    skipfooter : int, default 0\n",
      "        Number of lines at bottom of file to skip (Unsupported with engine='c').\n",
      "    nrows : int, optional\n",
      "        Number of rows of file to read. Useful for reading pieces of large files.\n",
      "    na_values : scalar, str, list-like, or dict, optional\n",
      "        Additional strings to recognize as NA/NaN. If dict passed, specific\n",
      "        per-column NA values.  By default the following values are interpreted as\n",
      "        NaN: '', '#N/A', '#N/A N/A', '#NA', '-1.#IND', '-1.#QNAN', '-NaN', '-nan',\n",
      "        '1.#IND', '1.#QNAN', '<NA>', 'N/A', 'NA', 'NULL', 'NaN', 'n/a',\n",
      "        'nan', 'null'.\n",
      "    keep_default_na : bool, default True\n",
      "        Whether or not to include the default NaN values when parsing the data.\n",
      "        Depending on whether `na_values` is passed in, the behavior is as follows:\n",
      "    \n",
      "        * If `keep_default_na` is True, and `na_values` are specified, `na_values`\n",
      "          is appended to the default NaN values used for parsing.\n",
      "        * If `keep_default_na` is True, and `na_values` are not specified, only\n",
      "          the default NaN values are used for parsing.\n",
      "        * If `keep_default_na` is False, and `na_values` are specified, only\n",
      "          the NaN values specified `na_values` are used for parsing.\n",
      "        * If `keep_default_na` is False, and `na_values` are not specified, no\n",
      "          strings will be parsed as NaN.\n",
      "    \n",
      "        Note that if `na_filter` is passed in as False, the `keep_default_na` and\n",
      "        `na_values` parameters will be ignored.\n",
      "    na_filter : bool, default True\n",
      "        Detect missing value markers (empty strings and the value of na_values). In\n",
      "        data without any NAs, passing na_filter=False can improve the performance\n",
      "        of reading a large file.\n",
      "    verbose : bool, default False\n",
      "        Indicate number of NA values placed in non-numeric columns.\n",
      "    skip_blank_lines : bool, default True\n",
      "        If True, skip over blank lines rather than interpreting as NaN values.\n",
      "    parse_dates : bool or list of int or names or list of lists or dict, default False\n",
      "        The behavior is as follows:\n",
      "    \n",
      "        * boolean. If True -> try parsing the index.\n",
      "        * list of int or names. e.g. If [1, 2, 3] -> try parsing columns 1, 2, 3\n",
      "          each as a separate date column.\n",
      "        * list of lists. e.g.  If [[1, 3]] -> combine columns 1 and 3 and parse as\n",
      "          a single date column.\n",
      "        * dict, e.g. {'foo' : [1, 3]} -> parse columns 1, 3 as date and call\n",
      "          result 'foo'\n",
      "    \n",
      "        If a column or index cannot be represented as an array of datetimes,\n",
      "        say because of an unparseable value or a mixture of timezones, the column\n",
      "        or index will be returned unaltered as an object data type. For\n",
      "        non-standard datetime parsing, use ``pd.to_datetime`` after\n",
      "        ``pd.read_csv``. To parse an index or column with a mixture of timezones,\n",
      "        specify ``date_parser`` to be a partially-applied\n",
      "        :func:`pandas.to_datetime` with ``utc=True``. See\n",
      "        :ref:`io.csv.mixed_timezones` for more.\n",
      "    \n",
      "        Note: A fast-path exists for iso8601-formatted dates.\n",
      "    infer_datetime_format : bool, default False\n",
      "        If True and `parse_dates` is enabled, pandas will attempt to infer the\n",
      "        format of the datetime strings in the columns, and if it can be inferred,\n",
      "        switch to a faster method of parsing them. In some cases this can increase\n",
      "        the parsing speed by 5-10x.\n",
      "    keep_date_col : bool, default False\n",
      "        If True and `parse_dates` specifies combining multiple columns then\n",
      "        keep the original columns.\n",
      "    date_parser : function, optional\n",
      "        Function to use for converting a sequence of string columns to an array of\n",
      "        datetime instances. The default uses ``dateutil.parser.parser`` to do the\n",
      "        conversion. Pandas will try to call `date_parser` in three different ways,\n",
      "        advancing to the next if an exception occurs: 1) Pass one or more arrays\n",
      "        (as defined by `parse_dates`) as arguments; 2) concatenate (row-wise) the\n",
      "        string values from the columns defined by `parse_dates` into a single array\n",
      "        and pass that; and 3) call `date_parser` once for each row using one or\n",
      "        more strings (corresponding to the columns defined by `parse_dates`) as\n",
      "        arguments.\n",
      "    dayfirst : bool, default False\n",
      "        DD/MM format dates, international and European format.\n",
      "    cache_dates : bool, default True\n",
      "        If True, use a cache of unique, converted dates to apply the datetime\n",
      "        conversion. May produce significant speed-up when parsing duplicate\n",
      "        date strings, especially ones with timezone offsets.\n",
      "    \n",
      "        .. versionadded:: 0.25.0\n",
      "    iterator : bool, default False\n",
      "        Return TextFileReader object for iteration or getting chunks with\n",
      "        ``get_chunk()``.\n",
      "    chunksize : int, optional\n",
      "        Return TextFileReader object for iteration.\n",
      "        See the `IO Tools docs\n",
      "        <https://pandas.pydata.org/pandas-docs/stable/io.html#io-chunking>`_\n",
      "        for more information on ``iterator`` and ``chunksize``.\n",
      "    compression : {'infer', 'gzip', 'bz2', 'zip', 'xz', None}, default 'infer'\n",
      "        For on-the-fly decompression of on-disk data. If 'infer' and\n",
      "        `filepath_or_buffer` is path-like, then detect compression from the\n",
      "        following extensions: '.gz', '.bz2', '.zip', or '.xz' (otherwise no\n",
      "        decompression). If using 'zip', the ZIP file must contain only one data\n",
      "        file to be read in. Set to None for no decompression.\n",
      "    thousands : str, optional\n",
      "        Thousands separator.\n",
      "    decimal : str, default '.'\n",
      "        Character to recognize as decimal point (e.g. use ',' for European data).\n",
      "    lineterminator : str (length 1), optional\n",
      "        Character to break file into lines. Only valid with C parser.\n",
      "    quotechar : str (length 1), optional\n",
      "        The character used to denote the start and end of a quoted item. Quoted\n",
      "        items can include the delimiter and it will be ignored.\n",
      "    quoting : int or csv.QUOTE_* instance, default 0\n",
      "        Control field quoting behavior per ``csv.QUOTE_*`` constants. Use one of\n",
      "        QUOTE_MINIMAL (0), QUOTE_ALL (1), QUOTE_NONNUMERIC (2) or QUOTE_NONE (3).\n",
      "    doublequote : bool, default ``True``\n",
      "       When quotechar is specified and quoting is not ``QUOTE_NONE``, indicate\n",
      "       whether or not to interpret two consecutive quotechar elements INSIDE a\n",
      "       field as a single ``quotechar`` element.\n",
      "    escapechar : str (length 1), optional\n",
      "        One-character string used to escape other characters.\n",
      "    comment : str, optional\n",
      "        Indicates remainder of line should not be parsed. If found at the beginning\n",
      "        of a line, the line will be ignored altogether. This parameter must be a\n",
      "        single character. Like empty lines (as long as ``skip_blank_lines=True``),\n",
      "        fully commented lines are ignored by the parameter `header` but not by\n",
      "        `skiprows`. For example, if ``comment='#'``, parsing\n",
      "        ``#empty\\na,b,c\\n1,2,3`` with ``header=0`` will result in 'a,b,c' being\n",
      "        treated as the header.\n",
      "    encoding : str, optional\n",
      "        Encoding to use for UTF when reading/writing (ex. 'utf-8'). `List of Python\n",
      "        standard encodings\n",
      "        <https://docs.python.org/3/library/codecs.html#standard-encodings>`_ .\n",
      "    dialect : str or csv.Dialect, optional\n",
      "        If provided, this parameter will override values (default or not) for the\n",
      "        following parameters: `delimiter`, `doublequote`, `escapechar`,\n",
      "        `skipinitialspace`, `quotechar`, and `quoting`. If it is necessary to\n",
      "        override values, a ParserWarning will be issued. See csv.Dialect\n",
      "        documentation for more details.\n",
      "    error_bad_lines : bool, default True\n",
      "        Lines with too many fields (e.g. a csv line with too many commas) will by\n",
      "        default cause an exception to be raised, and no DataFrame will be returned.\n",
      "        If False, then these \"bad lines\" will dropped from the DataFrame that is\n",
      "        returned.\n",
      "    warn_bad_lines : bool, default True\n",
      "        If error_bad_lines is False, and warn_bad_lines is True, a warning for each\n",
      "        \"bad line\" will be output.\n",
      "    delim_whitespace : bool, default False\n",
      "        Specifies whether or not whitespace (e.g. ``' '`` or ``'    '``) will be\n",
      "        used as the sep. Equivalent to setting ``sep='\\s+'``. If this option\n",
      "        is set to True, nothing should be passed in for the ``delimiter``\n",
      "        parameter.\n",
      "    low_memory : bool, default True\n",
      "        Internally process the file in chunks, resulting in lower memory use\n",
      "        while parsing, but possibly mixed type inference.  To ensure no mixed\n",
      "        types either set False, or specify the type with the `dtype` parameter.\n",
      "        Note that the entire file is read into a single DataFrame regardless,\n",
      "        use the `chunksize` or `iterator` parameter to return the data in chunks.\n",
      "        (Only valid with C parser).\n",
      "    memory_map : bool, default False\n",
      "        If a filepath is provided for `filepath_or_buffer`, map the file object\n",
      "        directly onto memory and access the data directly from there. Using this\n",
      "        option can improve performance because there is no longer any I/O overhead.\n",
      "    float_precision : str, optional\n",
      "        Specifies which converter the C engine should use for floating-point\n",
      "        values. The options are `None` for the ordinary converter,\n",
      "        `high` for the high-precision converter, and `round_trip` for the\n",
      "        round-trip converter.\n",
      "    \n",
      "    Returns\n",
      "    -------\n",
      "    DataFrame or TextParser\n",
      "        A comma-separated values (csv) file is returned as two-dimensional\n",
      "        data structure with labeled axes.\n",
      "    \n",
      "    See Also\n",
      "    --------\n",
      "    DataFrame.to_csv : Write DataFrame to a comma-separated values (csv) file.\n",
      "    read_csv : Read a comma-separated values (csv) file into DataFrame.\n",
      "    read_fwf : Read a table of fixed-width formatted lines into DataFrame.\n",
      "    \n",
      "    Examples\n",
      "    --------\n",
      "    >>> pd.read_csv('data.csv')  # doctest: +SKIP\n",
      "\n",
      "None\n"
     ]
    }
   ],
   "source": [
    "MFC = pd.read_csv(\"C:\\\\Users\\\\SilentCat\\\\Documents\\\\大一\\\\训练营\\\\中期考核\\\\data\\\\train\\\\train.csv\")\n",
    "print(type(MFC))\n",
    "print(help(pd.read_csv))\n"
   ]
  },
  {
   "cell_type": "code",
   "execution_count": 455,
   "metadata": {
    "scrolled": true
   },
   "outputs": [
    {
     "data": {
      "text/html": [
       "<div>\n",
       "<style scoped>\n",
       "    .dataframe tbody tr th:only-of-type {\n",
       "        vertical-align: middle;\n",
       "    }\n",
       "\n",
       "    .dataframe tbody tr th {\n",
       "        vertical-align: top;\n",
       "    }\n",
       "\n",
       "    .dataframe thead th {\n",
       "        text-align: right;\n",
       "    }\n",
       "</style>\n",
       "<table border=\"1\" class=\"dataframe\">\n",
       "  <thead>\n",
       "    <tr style=\"text-align: right;\">\n",
       "      <th></th>\n",
       "      <th>id_num</th>\n",
       "      <th>program_type</th>\n",
       "      <th>program_id</th>\n",
       "      <th>program_duration</th>\n",
       "      <th>test_id</th>\n",
       "      <th>test_type</th>\n",
       "      <th>difficulty_level</th>\n",
       "      <th>trainee_id</th>\n",
       "      <th>gender</th>\n",
       "      <th>education</th>\n",
       "      <th>city_tier</th>\n",
       "      <th>age</th>\n",
       "      <th>total_programs_enrolled</th>\n",
       "      <th>is_handicapped</th>\n",
       "      <th>trainee_engagement_rating</th>\n",
       "      <th>is_pass</th>\n",
       "    </tr>\n",
       "  </thead>\n",
       "  <tbody>\n",
       "    <tr>\n",
       "      <th>0</th>\n",
       "      <td>9389_150</td>\n",
       "      <td>Y</td>\n",
       "      <td>Y_1</td>\n",
       "      <td>136.0</td>\n",
       "      <td>150.0</td>\n",
       "      <td>offline</td>\n",
       "      <td>intermediate</td>\n",
       "      <td>9389.0</td>\n",
       "      <td>M</td>\n",
       "      <td>Matriculation</td>\n",
       "      <td>3.0</td>\n",
       "      <td>24.0</td>\n",
       "      <td>5.0</td>\n",
       "      <td>N</td>\n",
       "      <td>1.0</td>\n",
       "      <td>0</td>\n",
       "    </tr>\n",
       "    <tr>\n",
       "      <th>1</th>\n",
       "      <td>16523_44</td>\n",
       "      <td>T</td>\n",
       "      <td>T_1</td>\n",
       "      <td>131.0</td>\n",
       "      <td>44.0</td>\n",
       "      <td>offline</td>\n",
       "      <td>easy</td>\n",
       "      <td>16523.0</td>\n",
       "      <td>F</td>\n",
       "      <td>High School Diploma</td>\n",
       "      <td>4.0</td>\n",
       "      <td>26.0</td>\n",
       "      <td>2.0</td>\n",
       "      <td>N</td>\n",
       "      <td>3.0</td>\n",
       "      <td>1</td>\n",
       "    </tr>\n",
       "    <tr>\n",
       "      <th>2</th>\n",
       "      <td>13987_178</td>\n",
       "      <td>Z</td>\n",
       "      <td>Z_2</td>\n",
       "      <td>120.0</td>\n",
       "      <td>178.0</td>\n",
       "      <td>online</td>\n",
       "      <td>easy</td>\n",
       "      <td>13987.0</td>\n",
       "      <td>M</td>\n",
       "      <td>Matriculation</td>\n",
       "      <td>1.0</td>\n",
       "      <td>40.0</td>\n",
       "      <td>1.0</td>\n",
       "      <td>N</td>\n",
       "      <td>2.0</td>\n",
       "      <td>1</td>\n",
       "    </tr>\n",
       "    <tr>\n",
       "      <th>3</th>\n",
       "      <td>13158_32</td>\n",
       "      <td>T</td>\n",
       "      <td>T_2</td>\n",
       "      <td>117.0</td>\n",
       "      <td>32.0</td>\n",
       "      <td>offline</td>\n",
       "      <td>easy</td>\n",
       "      <td>13158.0</td>\n",
       "      <td>F</td>\n",
       "      <td>Matriculation</td>\n",
       "      <td>3.0</td>\n",
       "      <td>NaN</td>\n",
       "      <td>4.0</td>\n",
       "      <td>N</td>\n",
       "      <td>1.0</td>\n",
       "      <td>1</td>\n",
       "    </tr>\n",
       "    <tr>\n",
       "      <th>4</th>\n",
       "      <td>10591_84</td>\n",
       "      <td>V</td>\n",
       "      <td>V_3</td>\n",
       "      <td>131.0</td>\n",
       "      <td>84.0</td>\n",
       "      <td>offline</td>\n",
       "      <td>intermediate</td>\n",
       "      <td>10591.0</td>\n",
       "      <td>F</td>\n",
       "      <td>High School Diploma</td>\n",
       "      <td>1.0</td>\n",
       "      <td>42.0</td>\n",
       "      <td>2.0</td>\n",
       "      <td>N</td>\n",
       "      <td>4.0</td>\n",
       "      <td>1</td>\n",
       "    </tr>\n",
       "    <tr>\n",
       "      <th>...</th>\n",
       "      <td>...</td>\n",
       "      <td>...</td>\n",
       "      <td>...</td>\n",
       "      <td>...</td>\n",
       "      <td>...</td>\n",
       "      <td>...</td>\n",
       "      <td>...</td>\n",
       "      <td>...</td>\n",
       "      <td>...</td>\n",
       "      <td>...</td>\n",
       "      <td>...</td>\n",
       "      <td>...</td>\n",
       "      <td>...</td>\n",
       "      <td>...</td>\n",
       "      <td>...</td>\n",
       "      <td>...</td>\n",
       "    </tr>\n",
       "    <tr>\n",
       "      <th>49993</th>\n",
       "      <td>4379_115</td>\n",
       "      <td>Y</td>\n",
       "      <td>Y_4</td>\n",
       "      <td>121.0</td>\n",
       "      <td>115.0</td>\n",
       "      <td>offline</td>\n",
       "      <td>hard</td>\n",
       "      <td>4379.0</td>\n",
       "      <td>F</td>\n",
       "      <td>High School Diploma</td>\n",
       "      <td>2.0</td>\n",
       "      <td>NaN</td>\n",
       "      <td>5.0</td>\n",
       "      <td>N</td>\n",
       "      <td>4.0</td>\n",
       "      <td>1</td>\n",
       "    </tr>\n",
       "    <tr>\n",
       "      <th>49994</th>\n",
       "      <td>3809_58</td>\n",
       "      <td>U</td>\n",
       "      <td>U_1</td>\n",
       "      <td>NaN</td>\n",
       "      <td>58.0</td>\n",
       "      <td>offline</td>\n",
       "      <td>intermediate</td>\n",
       "      <td>3809.0</td>\n",
       "      <td>F</td>\n",
       "      <td>High School Diploma</td>\n",
       "      <td>3.0</td>\n",
       "      <td>30.0</td>\n",
       "      <td>2.0</td>\n",
       "      <td>N</td>\n",
       "      <td>3.0</td>\n",
       "      <td>1</td>\n",
       "    </tr>\n",
       "    <tr>\n",
       "      <th>49995</th>\n",
       "      <td>18109_42</td>\n",
       "      <td>T</td>\n",
       "      <td>T_2</td>\n",
       "      <td>117.0</td>\n",
       "      <td>42.0</td>\n",
       "      <td>online</td>\n",
       "      <td>easy</td>\n",
       "      <td>18109.0</td>\n",
       "      <td>F</td>\n",
       "      <td>High School Diploma</td>\n",
       "      <td>2.0</td>\n",
       "      <td>41.0</td>\n",
       "      <td>2.0</td>\n",
       "      <td>N</td>\n",
       "      <td>1.0</td>\n",
       "      <td>1</td>\n",
       "    </tr>\n",
       "    <tr>\n",
       "      <th>49996</th>\n",
       "      <td>6384_113</td>\n",
       "      <td>Y</td>\n",
       "      <td>Y_4</td>\n",
       "      <td>121.0</td>\n",
       "      <td>113.0</td>\n",
       "      <td>offline</td>\n",
       "      <td>intermediate</td>\n",
       "      <td>6384.0</td>\n",
       "      <td>M</td>\n",
       "      <td>Matriculation</td>\n",
       "      <td>3.0</td>\n",
       "      <td>NaN</td>\n",
       "      <td>2.0</td>\n",
       "      <td>N</td>\n",
       "      <td>5.0</td>\n",
       "      <td>1</td>\n",
       "    </tr>\n",
       "    <tr>\n",
       "      <th>49997</th>\n",
       "      <td>18598_111</td>\n",
       "      <td>X</td>\n",
       "      <td>X_1</td>\n",
       "      <td>134.0</td>\n",
       "      <td>111.0</td>\n",
       "      <td>offline</td>\n",
       "      <td>hard</td>\n",
       "      <td>18598.0</td>\n",
       "      <td>M</td>\n",
       "      <td>Matriculation</td>\n",
       "      <td>2.0</td>\n",
       "      <td>29.0</td>\n",
       "      <td>5.0</td>\n",
       "      <td>N</td>\n",
       "      <td>NaN</td>\n",
       "      <td>1</td>\n",
       "    </tr>\n",
       "  </tbody>\n",
       "</table>\n",
       "<p>49998 rows × 16 columns</p>\n",
       "</div>"
      ],
      "text/plain": [
       "          id_num program_type program_id  program_duration  test_id test_type  \\\n",
       "0       9389_150            Y        Y_1             136.0    150.0   offline   \n",
       "1       16523_44            T        T_1             131.0     44.0   offline   \n",
       "2      13987_178            Z        Z_2             120.0    178.0    online   \n",
       "3       13158_32            T        T_2             117.0     32.0   offline   \n",
       "4       10591_84            V        V_3             131.0     84.0   offline   \n",
       "...          ...          ...        ...               ...      ...       ...   \n",
       "49993   4379_115            Y        Y_4             121.0    115.0   offline   \n",
       "49994    3809_58            U        U_1               NaN     58.0   offline   \n",
       "49995   18109_42            T        T_2             117.0     42.0    online   \n",
       "49996   6384_113            Y        Y_4             121.0    113.0   offline   \n",
       "49997  18598_111            X        X_1             134.0    111.0   offline   \n",
       "\n",
       "      difficulty_level  trainee_id gender            education  city_tier  \\\n",
       "0         intermediate      9389.0      M        Matriculation        3.0   \n",
       "1                 easy     16523.0      F  High School Diploma        4.0   \n",
       "2                 easy     13987.0      M        Matriculation        1.0   \n",
       "3                 easy     13158.0      F        Matriculation        3.0   \n",
       "4         intermediate     10591.0      F  High School Diploma        1.0   \n",
       "...                ...         ...    ...                  ...        ...   \n",
       "49993             hard      4379.0      F  High School Diploma        2.0   \n",
       "49994     intermediate      3809.0      F  High School Diploma        3.0   \n",
       "49995             easy     18109.0      F  High School Diploma        2.0   \n",
       "49996     intermediate      6384.0      M        Matriculation        3.0   \n",
       "49997             hard     18598.0      M        Matriculation        2.0   \n",
       "\n",
       "        age  total_programs_enrolled is_handicapped  \\\n",
       "0      24.0                      5.0              N   \n",
       "1      26.0                      2.0              N   \n",
       "2      40.0                      1.0              N   \n",
       "3       NaN                      4.0              N   \n",
       "4      42.0                      2.0              N   \n",
       "...     ...                      ...            ...   \n",
       "49993   NaN                      5.0              N   \n",
       "49994  30.0                      2.0              N   \n",
       "49995  41.0                      2.0              N   \n",
       "49996   NaN                      2.0              N   \n",
       "49997  29.0                      5.0              N   \n",
       "\n",
       "       trainee_engagement_rating  is_pass  \n",
       "0                            1.0        0  \n",
       "1                            3.0        1  \n",
       "2                            2.0        1  \n",
       "3                            1.0        1  \n",
       "4                            4.0        1  \n",
       "...                          ...      ...  \n",
       "49993                        4.0        1  \n",
       "49994                        3.0        1  \n",
       "49995                        1.0        1  \n",
       "49996                        5.0        1  \n",
       "49997                        NaN        1  \n",
       "\n",
       "[49998 rows x 16 columns]"
      ]
     },
     "execution_count": 455,
     "metadata": {},
     "output_type": "execute_result"
    },
    {
     "data": {
      "text/plain": [
       "0        M\n",
       "1        F\n",
       "2        M\n",
       "3        F\n",
       "4        F\n",
       "        ..\n",
       "49993    F\n",
       "49994    F\n",
       "49995    F\n",
       "49996    M\n",
       "49997    M\n",
       "Name: gender, Length: 49998, dtype: object"
      ]
     },
     "execution_count": 455,
     "metadata": {},
     "output_type": "execute_result"
    }
   ],
   "source": [
    "MFC.head(49999)\n",
    "MFC['gender'].head(49999)"
   ]
  },
  {
   "cell_type": "markdown",
   "metadata": {},
   "source": [
    "# 一.进行数据的预处理"
   ]
  },
  {
   "cell_type": "code",
   "execution_count": 456,
   "metadata": {
    "scrolled": false
   },
   "outputs": [
    {
     "name": "stdout",
     "output_type": "stream",
     "text": [
      "       program_duration       test_id    trainee_id     city_tier  \\\n",
      "count      49323.000000  49273.000000  49259.000000  49298.000000   \n",
      "mean         128.229366     91.414345   9863.493128      2.249097   \n",
      "std            6.889967     51.307852   5716.490640      1.010896   \n",
      "min          117.000000      0.000000      1.000000      1.000000   \n",
      "25%          121.000000     45.000000   5051.500000      1.000000   \n",
      "50%          131.000000     91.000000   9665.000000      2.000000   \n",
      "75%          134.000000    135.000000  14618.000000      3.000000   \n",
      "max          136.000000    187.000000  20097.000000      4.000000   \n",
      "\n",
      "                age  total_programs_enrolled  trainee_engagement_rating  \\\n",
      "count  30619.000000             49306.000000               49226.000000   \n",
      "mean      36.514256                 2.583114                   2.397818   \n",
      "std        9.045487                 1.239399                   1.326378   \n",
      "min       17.000000                 1.000000                   1.000000   \n",
      "25%       28.000000                 2.000000                   1.000000   \n",
      "50%       40.000000                 2.000000                   2.000000   \n",
      "75%       45.000000                 3.000000                   4.000000   \n",
      "max       63.000000                14.000000                   5.000000   \n",
      "\n",
      "            is_pass  \n",
      "count  49998.000000  \n",
      "mean       0.696288  \n",
      "std        0.459864  \n",
      "min        0.000000  \n",
      "25%        0.000000  \n",
      "50%        1.000000  \n",
      "75%        1.000000  \n",
      "max        1.000000  \n"
     ]
    }
   ],
   "source": [
    "print(MFC.describe())"
   ]
  },
  {
   "cell_type": "markdown",
   "metadata": {},
   "source": [
    "## 通过对比发现全部值存在缺失的情况，为此我们要进行缺失值进行均值填充处理"
   ]
  },
  {
   "cell_type": "code",
   "execution_count": 457,
   "metadata": {},
   "outputs": [
    {
     "name": "stdout",
     "output_type": "stream",
     "text": [
      "       program_duration       test_id    trainee_id     city_tier  \\\n",
      "count      49998.000000  49998.000000  49998.000000  49998.000000   \n",
      "mean         128.229366     91.414345   9717.738111      2.249097   \n",
      "std            6.843298     50.934489   5797.530603      1.003794   \n",
      "min          117.000000      0.000000      1.000000      1.000000   \n",
      "25%          121.000000     46.000000   4829.000000      1.000000   \n",
      "50%          131.000000     91.414345   9525.000000      2.000000   \n",
      "75%          134.000000    135.000000  14545.000000      3.000000   \n",
      "max          136.000000    187.000000  20097.000000      4.000000   \n",
      "\n",
      "                age  total_programs_enrolled  trainee_engagement_rating  \\\n",
      "count  49998.000000             49998.000000               49998.000000   \n",
      "mean      36.514256                 2.583114                   2.397818   \n",
      "std        7.078617                 1.230792                   1.316098   \n",
      "min       17.000000                 1.000000                   1.000000   \n",
      "25%       31.000000                 2.000000                   1.000000   \n",
      "50%       36.514256                 2.000000                   2.000000   \n",
      "75%       43.000000                 3.000000                   4.000000   \n",
      "max       63.000000                14.000000                   5.000000   \n",
      "\n",
      "            is_pass  \n",
      "count  49998.000000  \n",
      "mean       0.696288  \n",
      "std        0.459864  \n",
      "min        0.000000  \n",
      "25%        0.000000  \n",
      "50%        1.000000  \n",
      "75%        1.000000  \n",
      "max        1.000000  \n"
     ]
    }
   ],
   "source": [
    "MFC['program_duration'] = MFC['program_duration'].fillna(MFC['program_duration'].mean())\n",
    "MFC['test_id'] = MFC['test_id'].fillna(MFC['test_id'].mean())\n",
    "MFC['trainee_id'] = MFC['trainee_id'].fillna(MFC['city_tier'].mean())\n",
    "MFC['age'] = MFC['age'].fillna(MFC['age'].mean())\n",
    "MFC['total_programs_enrolled'] = MFC['total_programs_enrolled'].fillna(MFC['total_programs_enrolled'].mean())\n",
    "MFC['trainee_engagement_rating'] = MFC['trainee_engagement_rating'].fillna(MFC['trainee_engagement_rating'].mean())\n",
    "MFC['city_tier'] = MFC['city_tier'].fillna(MFC['city_tier'].mean())\n",
    "print(MFC.describe())"
   ]
  },
  {
   "cell_type": "markdown",
   "metadata": {},
   "source": [
    "## 对program_type、gender、test_type、difficulty_level、education、is_handicapped进行缺失值的处理"
   ]
  },
  {
   "cell_type": "markdown",
   "metadata": {},
   "source": [
    "### 先对gender进行处理,查看是否存在缺失值"
   ]
  },
  {
   "cell_type": "code",
   "execution_count": 458,
   "metadata": {},
   "outputs": [
    {
     "name": "stdout",
     "output_type": "stream",
     "text": [
      "['M' 'F' nan]\n"
     ]
    }
   ],
   "source": [
    "print(MFC['gender'].unique())"
   ]
  },
  {
   "cell_type": "markdown",
   "metadata": {},
   "source": [
    "#### gender存在缺失值,我们对gender里面的各数值的个数进行统计，再将出现值多的赋予给缺失值"
   ]
  },
  {
   "cell_type": "code",
   "execution_count": 459,
   "metadata": {
    "scrolled": true
   },
   "outputs": [
    {
     "name": "stdout",
     "output_type": "stream",
     "text": [
      "M    26276\n",
      "F    23015\n",
      "Name: gender, dtype: int64\n"
     ]
    }
   ],
   "source": [
    "count_gender = MFC['gender'].value_counts()\n",
    "print(count_gender)"
   ]
  },
  {
   "cell_type": "code",
   "execution_count": 460,
   "metadata": {},
   "outputs": [],
   "source": [
    "MFC['gender'] = MFC['gender'].fillna('M')\n",
    "\n",
    "#并对gender进行独热编码\n",
    "MFC.loc[MFC['gender'] == 'M', 'gender'] = 0 \n",
    "MFC.loc[MFC['gender'] == 'F', 'gender'] = 1\n",
    "\n"
   ]
  },
  {
   "cell_type": "markdown",
   "metadata": {},
   "source": [
    "### 再对program_type进行处理"
   ]
  },
  {
   "cell_type": "code",
   "execution_count": 461,
   "metadata": {},
   "outputs": [
    {
     "name": "stdout",
     "output_type": "stream",
     "text": [
      "['Y' 'T' 'Z' 'V' 'U' 'X' 'S' nan]\n"
     ]
    }
   ],
   "source": [
    "print(MFC['program_type'].unique())"
   ]
  },
  {
   "cell_type": "markdown",
   "metadata": {},
   "source": [
    "#### program_type存在缺失值,我们对program_type里面的各数值的个数进行统计，再将出现值多的赋予给缺失值"
   ]
  },
  {
   "cell_type": "code",
   "execution_count": 462,
   "metadata": {},
   "outputs": [
    {
     "name": "stdout",
     "output_type": "stream",
     "text": [
      "Y    15227\n",
      "T    12355\n",
      "V     8747\n",
      "U     5256\n",
      "Z     4538\n",
      "X     2263\n",
      "S      881\n",
      "Name: program_type, dtype: int64\n"
     ]
    }
   ],
   "source": [
    "type_count = MFC['program_type'].value_counts()\n",
    "print(type_count)"
   ]
  },
  {
   "cell_type": "code",
   "execution_count": 463,
   "metadata": {},
   "outputs": [],
   "source": [
    "MFC['program_type'] = MFC['program_type'].fillna('Y')\n",
    "\n",
    "#并对program_type进行独热编码\n",
    "MFC.loc[MFC['program_type'] == 'Y', \"program_type\"] = 0 \n",
    "MFC.loc[MFC['program_type'] == 'T', \"program_type\"] = 1\n",
    "MFC.loc[MFC['program_type'] == 'V', \"program_type\"] = 2\n",
    "MFC.loc[MFC['program_type'] == 'U', \"program_type\"] = 3\n",
    "MFC.loc[MFC['program_type'] == 'Z', \"program_type\"] = 4\n",
    "MFC.loc[MFC['program_type'] == 'X', \"program_type\"] = 5\n",
    "MFC.loc[MFC['program_type'] == 'S', \"program_type\"] = 6"
   ]
  },
  {
   "cell_type": "markdown",
   "metadata": {},
   "source": [
    "### 再对test_type进行处理"
   ]
  },
  {
   "cell_type": "code",
   "execution_count": 464,
   "metadata": {},
   "outputs": [
    {
     "name": "stdout",
     "output_type": "stream",
     "text": [
      "['offline' 'online' nan]\n"
     ]
    }
   ],
   "source": [
    "print(MFC['test_type'].unique())"
   ]
  },
  {
   "cell_type": "markdown",
   "metadata": {},
   "source": [
    "#### test_type存在缺失值"
   ]
  },
  {
   "cell_type": "code",
   "execution_count": 465,
   "metadata": {},
   "outputs": [
    {
     "name": "stdout",
     "output_type": "stream",
     "text": [
      "offline    29432\n",
      "online     19864\n",
      "Name: test_type, dtype: int64\n"
     ]
    }
   ],
   "source": [
    "test_count = MFC['test_type'].value_counts()\n",
    "print(test_count)"
   ]
  },
  {
   "cell_type": "markdown",
   "metadata": {},
   "source": [
    "#### test_type存在缺失值,我们对test_type里面的各数值的个数进行统计，再将出现值多的赋予给缺失值"
   ]
  },
  {
   "cell_type": "code",
   "execution_count": 466,
   "metadata": {},
   "outputs": [],
   "source": [
    "MFC['test_type'] = MFC['test_type'].fillna('offline')\n",
    "#并对test_type进行独热编码\n",
    "MFC.loc[MFC['test_type'] == 'offline', \"test_type\"] = 0 \n",
    "MFC.loc[MFC['test_type'] == 'online', \"test_type\"] = 1"
   ]
  },
  {
   "cell_type": "markdown",
   "metadata": {},
   "source": [
    "### 再对difficulty_level进行处理"
   ]
  },
  {
   "cell_type": "code",
   "execution_count": 467,
   "metadata": {},
   "outputs": [
    {
     "name": "stdout",
     "output_type": "stream",
     "text": [
      "['intermediate' 'easy' 'hard' 'vary hard' nan]\n"
     ]
    }
   ],
   "source": [
    "print(MFC['difficulty_level'].unique())"
   ]
  },
  {
   "cell_type": "markdown",
   "metadata": {},
   "source": [
    "#### difficulty_level存在缺失值"
   ]
  },
  {
   "cell_type": "code",
   "execution_count": 468,
   "metadata": {},
   "outputs": [
    {
     "name": "stdout",
     "output_type": "stream",
     "text": [
      "easy            26952\n",
      "intermediate    13996\n",
      "hard             6974\n",
      "vary hard        1373\n",
      "Name: difficulty_level, dtype: int64\n"
     ]
    }
   ],
   "source": [
    "level_count = MFC['difficulty_level'].value_counts()\n",
    "print(level_count)"
   ]
  },
  {
   "cell_type": "markdown",
   "metadata": {},
   "source": [
    "#### difficulty_level存在缺失值,我们对difficulty_level里面的各数值的个数进行统计，再将出现值多的赋予给缺失值"
   ]
  },
  {
   "cell_type": "code",
   "execution_count": 469,
   "metadata": {},
   "outputs": [],
   "source": [
    "MFC['difficulty_level'] = MFC['difficulty_level'].fillna('easy')\n",
    "\n",
    "#并对difficulty_level进行独热编码\n",
    "MFC.loc[MFC['difficulty_level'] == 'easy', \"difficulty_level\"] = 0 \n",
    "MFC.loc[MFC['difficulty_level'] == 'intermediate', \"difficulty_level\"] = 1\n",
    "MFC.loc[MFC['difficulty_level'] == 'hard', \"difficulty_level\"] = 2\n",
    "MFC.loc[MFC['difficulty_level'] == 'vary hard', \"difficulty_level\"] = 3"
   ]
  },
  {
   "cell_type": "markdown",
   "metadata": {},
   "source": [
    "### 再对education进行处理"
   ]
  },
  {
   "cell_type": "code",
   "execution_count": 470,
   "metadata": {
    "scrolled": true
   },
   "outputs": [
    {
     "name": "stdout",
     "output_type": "stream",
     "text": [
      "['Matriculation' 'High School Diploma' 'Bachelors' nan 'Masters'\n",
      " 'No Qualification']\n"
     ]
    }
   ],
   "source": [
    "print(MFC['education'].unique())"
   ]
  },
  {
   "cell_type": "markdown",
   "metadata": {},
   "source": [
    "#### education存在缺失值"
   ]
  },
  {
   "cell_type": "code",
   "execution_count": 471,
   "metadata": {},
   "outputs": [
    {
     "name": "stdout",
     "output_type": "stream",
     "text": [
      "High School Diploma    23161\n",
      "Matriculation          17662\n",
      "Bachelors               7795\n",
      "Masters                  345\n",
      "No Qualification         333\n",
      "Name: education, dtype: int64\n"
     ]
    }
   ],
   "source": [
    "edu_count = MFC['education'].value_counts()\n",
    "print(edu_count)"
   ]
  },
  {
   "cell_type": "markdown",
   "metadata": {},
   "source": [
    "#### education存在缺失值,我们对education里面的各数值的个数进行统计，再将出现值多的赋予给缺失值"
   ]
  },
  {
   "cell_type": "code",
   "execution_count": 472,
   "metadata": {},
   "outputs": [],
   "source": [
    "MFC['education'] = MFC['education'].fillna('High School Diploma')\n",
    "\n",
    "#并对eduaction进行独热编码\n",
    "MFC.loc[MFC['education'] == 'High School Diploma', \"education\"] = 0\n",
    "MFC.loc[MFC['education'] == 'Matriculation', \"education\"] = 1\n",
    "MFC.loc[MFC['education'] == 'Bachelors', \"education\"] = 2\n",
    "MFC.loc[MFC['education'] == 'Masters', \"education\"] = 3\n",
    "MFC.loc[MFC['education'] == 'No Qualification', \"education\"] = 4"
   ]
  },
  {
   "cell_type": "markdown",
   "metadata": {},
   "source": [
    "### 再对program_id进行处理"
   ]
  },
  {
   "cell_type": "code",
   "execution_count": 473,
   "metadata": {
    "scrolled": true
   },
   "outputs": [
    {
     "name": "stdout",
     "output_type": "stream",
     "text": [
      "['Y_1' 'T_1' 'Z_2' 'T_2' 'V_3' 'T_3' 'Y_2' 'U_1' 'Y_3' 'X_3' 'Y_4' 'V_1'\n",
      " 'T_4' 'Z_1' 'S_2' 'X_2' 'V_4' 'Z_3' 'U_2' nan 'X_1' 'S_1' 'V_2']\n"
     ]
    }
   ],
   "source": [
    "print(MFC[\"program_id\"].unique())"
   ]
  },
  {
   "cell_type": "markdown",
   "metadata": {},
   "source": [
    "#### program_id存在缺失值"
   ]
  },
  {
   "cell_type": "code",
   "execution_count": 474,
   "metadata": {},
   "outputs": [
    {
     "name": "stdout",
     "output_type": "stream",
     "text": [
      "Y_1    4566\n",
      "Y_3    4471\n",
      "T_3    4128\n",
      "Y_4    3349\n",
      "T_4    3241\n",
      "U_1    3202\n",
      "V_4    2907\n",
      "Y_2    2847\n",
      "T_2    2846\n",
      "V_1    2310\n",
      "V_3    2246\n",
      "T_1    2124\n",
      "U_2    2065\n",
      "Z_3    1825\n",
      "Z_2    1422\n",
      "Z_1    1315\n",
      "V_2    1291\n",
      "X_1     945\n",
      "X_3     799\n",
      "X_2     519\n",
      "S_2     446\n",
      "S_1     435\n",
      "Name: program_id, dtype: int64\n"
     ]
    }
   ],
   "source": [
    "id_count = MFC['program_id'].value_counts()\n",
    "print(id_count)"
   ]
  },
  {
   "cell_type": "markdown",
   "metadata": {},
   "source": [
    "#### program_id存在缺失值,我们对program_id里面的各数值的个数进行统计，再将出现值多的赋予给缺失值"
   ]
  },
  {
   "cell_type": "code",
   "execution_count": 475,
   "metadata": {},
   "outputs": [],
   "source": [
    "MFC['program_id'] = MFC['program_id'].fillna('Y_1')\n",
    "\n",
    "#并对program_id进行独热编码\n",
    "MFC.loc[MFC['program_id'] == 'Y_1', \"program_id\"] = 0 \n",
    "MFC.loc[MFC['program_id'] == 'Y_3', \"program_id\"] = 1\n",
    "MFC.loc[MFC['program_id'] == 'T_3', \"program_id\"] = 2\n",
    "MFC.loc[MFC['program_id'] == 'Y_4', \"program_id\"] = 3\n",
    "MFC.loc[MFC['program_id'] == 'T_4', \"program_id\"] = 4\n",
    "MFC.loc[MFC['program_id'] == 'U_1', \"program_id\"] = 5\n",
    "MFC.loc[MFC['program_id'] == 'V_4', \"program_id\"] = 6\n",
    "MFC.loc[MFC['program_id'] == 'Y_2', \"program_id\"] = 7\n",
    "MFC.loc[MFC['program_id'] == 'T_2', \"program_id\"] = 8\n",
    "MFC.loc[MFC['program_id'] == 'V_1', \"program_id\"] = 9\n",
    "MFC.loc[MFC['program_id'] == 'V_3', \"program_id\"] = 10\n",
    "MFC.loc[MFC['program_id'] == 'T_1', \"program_id\"] = 11\n",
    "MFC.loc[MFC['program_id'] == 'U_2', \"program_id\"] = 12\n",
    "MFC.loc[MFC['program_id'] == 'Z_3', \"program_id\"] = 13\n",
    "MFC.loc[MFC['program_id'] == 'Z_2', \"program_id\"] = 14\n",
    "MFC.loc[MFC['program_id'] == 'Z_1', \"program_id\"] = 15\n",
    "MFC.loc[MFC['program_id'] == 'V_2', \"program_id\"] = 16\n",
    "MFC.loc[MFC['program_id'] == 'X_1', \"program_id\"] = 17\n",
    "MFC.loc[MFC['program_id'] == 'X_3', \"program_id\"] = 18\n",
    "MFC.loc[MFC['program_id'] == 'X_2', \"program_id\"] = 19\n",
    "MFC.loc[MFC['program_id'] == 'S_2', \"program_id\"] = 20\n",
    "MFC.loc[MFC['program_id'] == 'S_1', \"program_id\"] = 21"
   ]
  },
  {
   "cell_type": "markdown",
   "metadata": {},
   "source": [
    "### 最后对is_handicapped进行处理"
   ]
  },
  {
   "cell_type": "code",
   "execution_count": 476,
   "metadata": {},
   "outputs": [
    {
     "name": "stdout",
     "output_type": "stream",
     "text": [
      "['N' 'Y' nan]\n"
     ]
    }
   ],
   "source": [
    "print(MFC['is_handicapped'].unique())"
   ]
  },
  {
   "cell_type": "markdown",
   "metadata": {},
   "source": [
    "#### is_handicapped存在缺失值"
   ]
  },
  {
   "cell_type": "code",
   "execution_count": 477,
   "metadata": {},
   "outputs": [
    {
     "name": "stdout",
     "output_type": "stream",
     "text": [
      "N    44813\n",
      "Y     4467\n",
      "Name: is_handicapped, dtype: int64\n"
     ]
    }
   ],
   "source": [
    "hand_count = MFC['is_handicapped'].value_counts()\n",
    "print(hand_count)"
   ]
  },
  {
   "cell_type": "markdown",
   "metadata": {},
   "source": [
    "#### is_handicapped存在缺失值,我们对is_handicapped里面的各数值的个数进行统计，再将出现值多的赋予给缺失值"
   ]
  },
  {
   "cell_type": "code",
   "execution_count": 478,
   "metadata": {},
   "outputs": [],
   "source": [
    "MFC['is_handicapped'] = MFC['is_handicapped'].fillna('N')\n",
    "\n",
    "#并对is_handicapped进行独热编码\n",
    "MFC.loc[MFC['is_handicapped'] == 'N', \"is_handicapped\"] = 0\n",
    "MFC.loc[MFC['is_handicapped'] == 'Y', \"is_handicapped\"] = 1"
   ]
  },
  {
   "cell_type": "code",
   "execution_count": 479,
   "metadata": {},
   "outputs": [
    {
     "name": "stdout",
     "output_type": "stream",
     "text": [
      "id_num                       False\n",
      "program_type                 False\n",
      "program_id                   False\n",
      "program_duration             False\n",
      "test_id                      False\n",
      "test_type                    False\n",
      "difficulty_level             False\n",
      "trainee_id                   False\n",
      "gender                       False\n",
      "education                    False\n",
      "city_tier                    False\n",
      "age                          False\n",
      "total_programs_enrolled      False\n",
      "is_handicapped               False\n",
      "trainee_engagement_rating    False\n",
      "is_pass                      False\n",
      "dtype: bool\n"
     ]
    }
   ],
   "source": [
    "print(MFC.isnull().any())"
   ]
  },
  {
   "cell_type": "markdown",
   "metadata": {},
   "source": [
    "# 二.使用模型预测"
   ]
  },
  {
   "cell_type": "markdown",
   "metadata": {},
   "source": [
    "## 使用线性回归模型预测通过率"
   ]
  },
  {
   "cell_type": "markdown",
   "metadata": {},
   "source": [
    "## 导入所需的库"
   ]
  },
  {
   "cell_type": "code",
   "execution_count": 480,
   "metadata": {
    "scrolled": true
   },
   "outputs": [],
   "source": [
    "from sklearn import linear_model\n",
    "from sklearn.model_selection import KFold"
   ]
  },
  {
   "cell_type": "markdown",
   "metadata": {},
   "source": [
    "### 查看训练结果"
   ]
  },
  {
   "cell_type": "code",
   "execution_count": 481,
   "metadata": {},
   "outputs": [
    {
     "data": {
      "text/plain": [
       "LinearRegression()"
      ]
     },
     "execution_count": 481,
     "metadata": {},
     "output_type": "execute_result"
    },
    {
     "data": {
      "text/plain": [
       "LinearRegression()"
      ]
     },
     "execution_count": 481,
     "metadata": {},
     "output_type": "execute_result"
    },
    {
     "data": {
      "text/plain": [
       "LinearRegression()"
      ]
     },
     "execution_count": 481,
     "metadata": {},
     "output_type": "execute_result"
    },
    {
     "data": {
      "text/plain": [
       "LinearRegression()"
      ]
     },
     "execution_count": 481,
     "metadata": {},
     "output_type": "execute_result"
    },
    {
     "data": {
      "text/plain": [
       "LinearRegression()"
      ]
     },
     "execution_count": 481,
     "metadata": {},
     "output_type": "execute_result"
    }
   ],
   "source": [
    "predictors = [\"program_type\",\"program_id\",\"program_duration\",\"test_id\",\"test_type\",\"difficulty_level\",\"trainee_id\",\"gender\",\"education\",\"city_tier\",\"total_programs_enrolled\",\"is_handicapped\",\"trainee_engagement_rating\"]\n",
    "\n",
    "reg = linear_model.LinearRegression() #初始化线性回归类\n",
    "kf = KFold(n_splits=5,random_state=1,shuffle=True) #KFold类实例化\n",
    "predictions = []\n",
    "for train, test in kf.split(MFC):#每经过循坏一次就建立一个线性回归模型\n",
    "    train_predictors = (MFC[predictors].iloc[train,:]) #获取训练数据\n",
    "    train_target = MFC[\"is_pass\"].iloc[train]#获取数据中分好类的通过率标签中\n",
    "    reg.fit(train_predictors, train_target)#训练模型\n",
    "    test_predictions = reg.predict(MFC[predictors].iloc[test,:])#用样本验证模型的准确率\n",
    "   \n",
    "    predictions.append(test_predictions)#将结果添加到列表中"
   ]
  },
  {
   "cell_type": "code",
   "execution_count": 482,
   "metadata": {},
   "outputs": [
    {
     "name": "stdout",
     "output_type": "stream",
     "text": [
      "测试数据的总数量： 49998\n",
      "正确的数量： 34191\n",
      "准确率为： 0.6838473538941557\n",
      "Wall time: 14 ms\n"
     ]
    }
   ],
   "source": [
    "%%time\n",
    "predictions = np.concatenate(predictions, axis=0)#需要将列表的数据转化为数组才能够比较大小\n",
    "\n",
    "predictions[predictions > 0.5] = 1\n",
    "predictions[predictions <= 0.5] = 0\n",
    "\n",
    "print(\"测试数据的总数量：\",len(predictions))\n",
    "print(\"正确的数量：\",sum(predictions == MFC[\"is_pass\"]))\n",
    "accuracy = sum(predictions == MFC[\"is_pass\"])/len(predictions)\n",
    "print(\"准确率为：\",accuracy)"
   ]
  },
  {
   "cell_type": "markdown",
   "metadata": {},
   "source": [
    "## 使用逻辑回归预测模型"
   ]
  },
  {
   "cell_type": "code",
   "execution_count": 483,
   "metadata": {},
   "outputs": [],
   "source": [
    "from sklearn import model_selection\n",
    "from sklearn.preprocessing import StandardScaler\n",
    "from sklearn.linear_model import LogisticRegression,SGDClassifier"
   ]
  },
  {
   "cell_type": "code",
   "execution_count": 484,
   "metadata": {},
   "outputs": [
    {
     "name": "stdout",
     "output_type": "stream",
     "text": [
      "准确率为： 0.7060881868186819\n",
      "Wall time: 1.44 s\n"
     ]
    }
   ],
   "source": [
    "%%time\n",
    "reg_logistic = LogisticRegression(random_state=15,solver='liblinear')\n",
    "\n",
    "reg_logistic.fit(MFC[predictors],MFC[\"is_pass\"])\n",
    "score = model_selection.cross_val_score(reg_logistic,MFC[predictors],MFC[\"is_pass\"],cv=5)\n",
    "print(\"准确率为：\",score.mean())"
   ]
  },
  {
   "cell_type": "code",
   "execution_count": 485,
   "metadata": {},
   "outputs": [],
   "source": [
    "ss=StandardScaler()   #数据幅度标准化\n",
    "X_train=ss.fit_transform(MFC[predictors])"
   ]
  },
  {
   "cell_type": "code",
   "execution_count": 486,
   "metadata": {},
   "outputs": [
    {
     "name": "stdout",
     "output_type": "stream",
     "text": [
      "准确率为： 0.7054882195287812\n",
      "Wall time: 385 ms\n"
     ]
    }
   ],
   "source": [
    "%%time\n",
    "lr=LogisticRegression(random_state=15,solver='liblinear')   #初始化\n",
    "lr.fit(X_train,MFC['is_pass'])   #fit训练模型参数 \n",
    "score = model_selection.cross_val_score(lr,X_train,MFC[\"is_pass\"],cv=3)\n",
    "print(\"准确率为：\",score.mean())"
   ]
  },
  {
   "cell_type": "code",
   "execution_count": 487,
   "metadata": {},
   "outputs": [
    {
     "name": "stdout",
     "output_type": "stream",
     "text": [
      "准确率为： 0.7016680667226689\n",
      "Wall time: 503 ms\n"
     ]
    }
   ],
   "source": [
    "%%time\n",
    "sgdc=SGDClassifier(random_state=15,loss='log') #梯度下降模型\n",
    "sgdc.fit(X_train,MFC['is_pass'])\n",
    "score = model_selection.cross_val_score(sgdc,X_train,MFC[\"is_pass\"],cv=3)\n",
    "print(\"准确率为：\",score.mean())"
   ]
  },
  {
   "cell_type": "markdown",
   "metadata": {},
   "source": [
    "## 使用随机森林模型预测通过率"
   ]
  },
  {
   "cell_type": "code",
   "execution_count": 488,
   "metadata": {},
   "outputs": [],
   "source": [
    "from sklearn import model_selection\n",
    "from sklearn.ensemble import RandomForestClassifier"
   ]
  },
  {
   "cell_type": "code",
   "execution_count": 489,
   "metadata": {},
   "outputs": [],
   "source": [
    "reg_random = RandomForestClassifier(random_state=5, n_estimators=500, min_samples_split=4, min_samples_leaf=2)"
   ]
  },
  {
   "cell_type": "code",
   "execution_count": 490,
   "metadata": {},
   "outputs": [
    {
     "name": "stdout",
     "output_type": "stream",
     "text": [
      "准确率为 0.7349493649364937\n",
      "Wall time: 1min 50s\n"
     ]
    }
   ],
   "source": [
    "%%time\n",
    "kf = model_selection.KFold(n_splits=5, random_state=1,shuffle=True)\n",
    "reg_random.fit(MFC[predictors],MFC[\"is_pass\"])\n",
    "score = model_selection.cross_val_score(reg_random,MFC[predictors],MFC[\"is_pass\"],cv=kf.split(MFC))\n",
    "print(\"准确率为\",score.mean())"
   ]
  },
  {
   "cell_type": "markdown",
   "metadata": {},
   "source": [
    "### 调节参数"
   ]
  },
  {
   "cell_type": "code",
   "execution_count": 491,
   "metadata": {},
   "outputs": [
    {
     "name": "stdout",
     "output_type": "stream",
     "text": [
      "准确率为： 0.735229409176367\n",
      "Wall time: 4.88 s\n"
     ]
    }
   ],
   "source": [
    "%%time\n",
    "rf0 = RandomForestClassifier(min_samples_split=4, min_samples_leaf=2,oob_score=True, random_state=5)\n",
    "rf0.fit(MFC[predictors],MFC['is_pass'])\n",
    "print (\"准确率为：\",rf0.oob_score_)"
   ]
  },
  {
   "cell_type": "code",
   "execution_count": 492,
   "metadata": {},
   "outputs": [
    {
     "name": "stdout",
     "output_type": "stream",
     "text": [
      "准确率为： 0.735229409176367\n",
      "Wall time: 4.85 s\n"
     ]
    }
   ],
   "source": [
    "%%time\n",
    "rf1 = RandomForestClassifier(min_samples_split=4, min_samples_leaf=2,oob_score=True, random_state=5,max_features='sqrt' )\n",
    "rf1.fit(MFC[predictors],MFC['is_pass'])\n",
    "print (\"准确率为：\",rf1.oob_score_)"
   ]
  },
  {
   "cell_type": "markdown",
   "metadata": {},
   "source": [
    "### 使用决策树模型预测通过率"
   ]
  },
  {
   "cell_type": "code",
   "execution_count": 493,
   "metadata": {},
   "outputs": [],
   "source": [
    "from sklearn.tree import DecisionTreeClassifier\n",
    "from sklearn.datasets import load_breast_cancer"
   ]
  },
  {
   "cell_type": "code",
   "execution_count": 494,
   "metadata": {},
   "outputs": [
    {
     "name": "stdout",
     "output_type": "stream",
     "text": [
      "准确率为： 0.7126085043401736\n",
      "Wall time: 147 ms\n"
     ]
    }
   ],
   "source": [
    "%%time\n",
    "model = DecisionTreeClassifier(max_depth=5)\n",
    "model.fit(MFC[predictors],MFC[\"is_pass\"])\n",
    "ss = model.score(MFC[predictors],MFC[\"is_pass\"])\n",
    "print(\"准确率为：\",ss)"
   ]
  },
  {
   "cell_type": "code",
   "execution_count": 495,
   "metadata": {},
   "outputs": [
    {
     "name": "stdout",
     "output_type": "stream",
     "text": [
      "准确率为： 0.7460698427937118\n",
      "Wall time: 190 ms\n"
     ]
    }
   ],
   "source": [
    "%%time\n",
    "model_adjustment = DecisionTreeClassifier(max_depth=10)\n",
    "model_adjustment.fit(MFC[predictors],MFC[\"is_pass\"])\n",
    "ss = model_adjustment.score(MFC[predictors],MFC[\"is_pass\"])\n",
    "print(\"准确率为：\",ss)"
   ]
  },
  {
   "cell_type": "markdown",
   "metadata": {},
   "source": [
    "## 使用神经网络预测模型"
   ]
  },
  {
   "cell_type": "code",
   "execution_count": 496,
   "metadata": {},
   "outputs": [],
   "source": [
    "from sklearn.neural_network import MLPClassifier"
   ]
  },
  {
   "cell_type": "code",
   "execution_count": 497,
   "metadata": {},
   "outputs": [
    {
     "name": "stdout",
     "output_type": "stream",
     "text": [
      "准确率为： 0.6969078763150526\n",
      "Wall time: 42.1 s\n"
     ]
    }
   ],
   "source": [
    "%%time\n",
    "mlp = MLPClassifier(hidden_layer_sizes=(100,100,100,50),max_iter=200,solver='adam') \n",
    "mlp.fit(MFC[predictors],MFC['is_pass'])\n",
    "print('准确率为：',mlp.score(MFC[predictors],MFC['is_pass']))"
   ]
  },
  {
   "cell_type": "markdown",
   "metadata": {},
   "source": [
    "## 特征选择"
   ]
  },
  {
   "cell_type": "code",
   "execution_count": 498,
   "metadata": {},
   "outputs": [],
   "source": [
    "from sklearn.feature_selection import SelectKBest, f_classif #特征选择库\n",
    "import matplotlib.pyplot as plt #画出特征直方图"
   ]
  },
  {
   "cell_type": "code",
   "execution_count": 499,
   "metadata": {},
   "outputs": [
    {
     "data": {
      "text/plain": [
       "SelectKBest(k=5)"
      ]
     },
     "execution_count": 499,
     "metadata": {},
     "output_type": "execute_result"
    },
    {
     "name": "stderr",
     "output_type": "stream",
     "text": [
      "<ipython-input-499-ce6fd66d5cd2>:4: RuntimeWarning: divide by zero encountered in log10\n",
      "  scores = -np.log10(selector.pvalues_)\n"
     ]
    },
    {
     "data": {
      "text/plain": [
       "<BarContainer object of 13 artists>"
      ]
     },
     "execution_count": 499,
     "metadata": {},
     "output_type": "execute_result"
    },
    {
     "data": {
      "text/plain": [
       "([<matplotlib.axis.XTick at 0x1dcf38d5670>,\n",
       "  <matplotlib.axis.XTick at 0x1dcf38d5ca0>,\n",
       "  <matplotlib.axis.XTick at 0x1dd1791ee20>,\n",
       "  <matplotlib.axis.XTick at 0x1dd2a002310>,\n",
       "  <matplotlib.axis.XTick at 0x1dd2a002850>,\n",
       "  <matplotlib.axis.XTick at 0x1dd2a002d60>,\n",
       "  <matplotlib.axis.XTick at 0x1dd2a0092b0>,\n",
       "  <matplotlib.axis.XTick at 0x1dd2a0097c0>,\n",
       "  <matplotlib.axis.XTick at 0x1dd2a009cd0>,\n",
       "  <matplotlib.axis.XTick at 0x1dd29ff7220>,\n",
       "  <matplotlib.axis.XTick at 0x1dd2a009340>,\n",
       "  <matplotlib.axis.XTick at 0x1dd2a0023a0>,\n",
       "  <matplotlib.axis.XTick at 0x1dcf38d50a0>],\n",
       " [Text(0, 0, 'program_type'),\n",
       "  Text(1, 0, 'program_id'),\n",
       "  Text(2, 0, 'program_duration'),\n",
       "  Text(3, 0, 'test_id'),\n",
       "  Text(4, 0, 'test_type'),\n",
       "  Text(5, 0, 'difficulty_level'),\n",
       "  Text(6, 0, 'trainee_id'),\n",
       "  Text(7, 0, 'gender'),\n",
       "  Text(8, 0, 'education'),\n",
       "  Text(9, 0, 'city_tier'),\n",
       "  Text(10, 0, 'total_programs_enrolled'),\n",
       "  Text(11, 0, 'is_handicapped'),\n",
       "  Text(12, 0, 'trainee_engagement_rating')])"
      ]
     },
     "execution_count": 499,
     "metadata": {},
     "output_type": "execute_result"
    },
    {
     "data": {
      "image/png": "[encoded data removed]",
      "text/plain": [
       "<Figure size 432x288 with 1 Axes>"
      ]
     },
     "metadata": {
      "needs_background": "light"
     },
     "output_type": "display_data"
    }
   ],
   "source": [
    "selector = SelectKBest(f_classif, k=5)\n",
    "selector.fit(MFC[predictors],MFC[\"is_pass\"])\n",
    "\n",
    "scores = -np.log10(selector.pvalues_)\n",
    "plt.bar(range(len(predictors)),  scores)\n",
    "plt.xticks(range(len(predictors)), predictors,rotation='vertical')\n",
    "plt.show()"
   ]
  },
  {
   "cell_type": "markdown",
   "metadata": {},
   "source": [
    "### 选取重要的数据"
   ]
  },
  {
   "cell_type": "code",
   "execution_count": 500,
   "metadata": {},
   "outputs": [],
   "source": [
    "predictors_crucial = [\"test_type\",\"difficulty_level\",\"test_id\",\"program_id\",\"city_tier\",\"program_type\",\"age\",\"trainee_id\",\"is_handicapped\", \"total_programs_enrolled\",\"gender\"]"
   ]
  },
  {
   "cell_type": "code",
   "execution_count": 501,
   "metadata": {},
   "outputs": [
    {
     "name": "stdout",
     "output_type": "stream",
     "text": [
      "准确率为：0.7144885795431817\n",
      "Wall time: 6.72 s\n"
     ]
    }
   ],
   "source": [
    "%%time\n",
    "reg_select = RandomForestClassifier(random_state=1,n_estimators=50,min_samples_split=8,min_samples_leaf=4)\n",
    "kf = model_selection.KFold(n_splits=3,random_state=1,shuffle=True)\n",
    "reg_select.fit(MFC[predictors_crucial],MFC[\"is_pass\"])\n",
    "scores = model_selection.cross_val_score(reg_select,MFC[predictors_crucial],MFC[\"is_pass\"],cv=kf)\n",
    "print(\"准确率为：\"+str(scores.mean()))"
   ]
  },
  {
   "cell_type": "markdown",
   "metadata": {},
   "source": [
    "## 集成多个算法"
   ]
  },
  {
   "cell_type": "code",
   "execution_count": 502,
   "metadata": {},
   "outputs": [],
   "source": [
    "from sklearn.ensemble import GradientBoostingClassifier"
   ]
  },
  {
   "cell_type": "code",
   "execution_count": 503,
   "metadata": {},
   "outputs": [
    {
     "name": "stdout",
     "output_type": "stream",
     "text": [
      "准确率为 0.6946077843113725\n",
      "Wall time: 14.2 s\n"
     ]
    }
   ],
   "source": [
    "%%time\n",
    "algorithms = [[GradientBoostingClassifier(random_state=1,n_estimators=45,max_depth=6),[\"test_type\",\"difficulty_level\",\"test_id\",\"program_id\",\"city_tier\",\"program_type\",\"trainee_id\",\"is_handicapped\", \"total_programs_enrolled\",\"gender\"]],[LogisticRegression(random_state=1,solver='liblinear'),[\"test_type\",\"difficulty_level\",\"test_id\",\"program_id\",\"city_tier\",\"program_type\",\"age\",\"trainee_id\",\"is_handicapped\", \"total_programs_enrolled\",\"gender\"]]]\n",
    "kf = KFold(n_splits=5, random_state=1,shuffle=True)\n",
    "predictions_ensemble = []\n",
    "\n",
    "for train,test in kf.split(MFC):\n",
    "    train_target = MFC[\"is_pass\"].iloc[train]\n",
    "    full_test_predictions = []\n",
    "    for reg_ensemble,predictors_crucial in algorithms:\n",
    "        reg_ensemble.fit(MFC[predictors_crucial].iloc[train,:],train_target)\n",
    "        test_predictions5 = reg_ensemble.predict_proba(MFC[predictors_crucial].iloc[test,:].astype(float))[:,1]\n",
    "        full_test_predictions.append(test_predictions5)\n",
    "        \n",
    "  \n",
    "    test_predictions5[test_predictions5 <=0.5] = 0\n",
    "    test_predictions5[test_predictions5 > 0.5] = 1\n",
    "    predictions_ensemble.append(test_predictions5)\n",
    "    \n",
    "predictions_ensemble = np.concatenate(predictions_ensemble, axis=0)\n",
    "\n",
    "accuracy = sum(predictions_ensemble == MFC[\"is_pass\"]) / len(predictions_ensemble)\n",
    "print(\"准确率为\",accuracy)"
   ]
  },
  {
   "cell_type": "markdown",
   "metadata": {},
   "source": [
    "## 导入测试集"
   ]
  },
  {
   "cell_type": "code",
   "execution_count": 523,
   "metadata": {},
   "outputs": [],
   "source": [
    "MFC_test = pd.read_csv(\"C:\\\\Users\\\\SilentCat\\\\Documents\\\\大一\\\\训练营\\\\中期考核\\\\data\\\\test\\\\test2.csv\")"
   ]
  },
  {
   "cell_type": "markdown",
   "metadata": {},
   "source": [
    "## 对测试数据集进行数据预处理"
   ]
  },
  {
   "cell_type": "code",
   "execution_count": 524,
   "metadata": {},
   "outputs": [
    {
     "name": "stdout",
     "output_type": "stream",
     "text": [
      "       program_duration       test_id    trainee_id     city_tier  \\\n",
      "count      11465.000000  11465.000000  11465.000000  11465.000000   \n",
      "mean         128.179067     90.116616   9801.775142      2.232708   \n",
      "std            6.890919     51.172182   5658.995423      1.012618   \n",
      "min          117.000000      0.000000      1.000000      1.000000   \n",
      "25%          121.000000     44.000000   5054.000000      1.000000   \n",
      "50%          131.000000     89.000000   9580.000000      2.000000   \n",
      "75%          134.000000    134.000000  14429.000000      3.000000   \n",
      "max          136.000000    187.000000  20096.000000      4.000000   \n",
      "\n",
      "               age  total_programs_enrolled  trainee_engagement_rating  \\\n",
      "count  7068.000000             11465.000000               11451.000000   \n",
      "mean     36.352292                 2.581771                   2.382150   \n",
      "std       8.993219                 1.229564                   1.314206   \n",
      "min      17.000000                 1.000000                   1.000000   \n",
      "25%      28.000000                 2.000000                   1.000000   \n",
      "50%      39.000000                 2.000000                   2.000000   \n",
      "75%      45.000000                 3.000000                   3.000000   \n",
      "max      59.000000                12.000000                   5.000000   \n",
      "\n",
      "       is_pass  \n",
      "count      0.0  \n",
      "mean       NaN  \n",
      "std        NaN  \n",
      "min        NaN  \n",
      "25%        NaN  \n",
      "50%        NaN  \n",
      "75%        NaN  \n",
      "max        NaN  \n"
     ]
    }
   ],
   "source": [
    "print(MFC_test.describe())"
   ]
  },
  {
   "cell_type": "code",
   "execution_count": 525,
   "metadata": {},
   "outputs": [
    {
     "name": "stdout",
     "output_type": "stream",
     "text": [
      "       program_duration       test_id    trainee_id     city_tier  \\\n",
      "count      11465.000000  11465.000000  11465.000000  11465.000000   \n",
      "mean         128.179067     90.116616   9801.775142      2.232708   \n",
      "std            6.890919     51.172182   5658.995423      1.012618   \n",
      "min          117.000000      0.000000      1.000000      1.000000   \n",
      "25%          121.000000     44.000000   5054.000000      1.000000   \n",
      "50%          131.000000     89.000000   9580.000000      2.000000   \n",
      "75%          134.000000    134.000000  14429.000000      3.000000   \n",
      "max          136.000000    187.000000  20096.000000      4.000000   \n",
      "\n",
      "                age  total_programs_enrolled  trainee_engagement_rating  \\\n",
      "count  11465.000000             11465.000000               11465.000000   \n",
      "mean      36.352292                 2.581771                   2.382150   \n",
      "std        7.060975                 1.229564                   1.313403   \n",
      "min       17.000000                 1.000000                   1.000000   \n",
      "25%       30.000000                 2.000000                   1.000000   \n",
      "50%       36.352292                 2.000000                   2.000000   \n",
      "75%       43.000000                 3.000000                   3.000000   \n",
      "max       59.000000                12.000000                   5.000000   \n",
      "\n",
      "       is_pass  \n",
      "count      0.0  \n",
      "mean       NaN  \n",
      "std        NaN  \n",
      "min        NaN  \n",
      "25%        NaN  \n",
      "50%        NaN  \n",
      "75%        NaN  \n",
      "max        NaN  \n"
     ]
    }
   ],
   "source": [
    "#对缺失的数值类型的数据进行均值填充\n",
    "MFC_test['program_duration'] = MFC_test['program_duration'].fillna(MFC_test['program_duration'].mean())\n",
    "MFC_test['test_id'] = MFC_test['test_id'].fillna(MFC_test['test_id'].mean())\n",
    "MFC_test['trainee_id'] = MFC_test['trainee_id'].fillna(MFC_test['city_tier'].mean())\n",
    "MFC_test['age'] = MFC_test['age'].fillna(MFC_test['age'].mean())\n",
    "MFC_test['total_programs_enrolled'] = MFC_test['total_programs_enrolled'].fillna(MFC_test['total_programs_enrolled'].mean())\n",
    "MFC_test['trainee_engagement_rating'] = MFC_test['trainee_engagement_rating'].fillna(MFC_test['trainee_engagement_rating'].mean())\n",
    "MFC_test['city_tier'] = MFC_test['city_tier'].fillna(MFC_test['city_tier'].mean())\n",
    "print(MFC_test.describe())"
   ]
  },
  {
   "cell_type": "markdown",
   "metadata": {},
   "source": [
    "### 对字符类型的数据进行处理"
   ]
  },
  {
   "cell_type": "code",
   "execution_count": 526,
   "metadata": {},
   "outputs": [
    {
     "name": "stdout",
     "output_type": "stream",
     "text": [
      "['F' 'M']\n"
     ]
    }
   ],
   "source": [
    "print(MFC_test['gender'].unique())"
   ]
  },
  {
   "cell_type": "code",
   "execution_count": 527,
   "metadata": {},
   "outputs": [
    {
     "name": "stdout",
     "output_type": "stream",
     "text": [
      "M    6092\n",
      "F    5373\n",
      "Name: gender, dtype: int64\n"
     ]
    }
   ],
   "source": [
    "gender_count1 = MFC_test['gender'].value_counts()\n",
    "print(gender_count1)"
   ]
  },
  {
   "cell_type": "code",
   "execution_count": 528,
   "metadata": {},
   "outputs": [],
   "source": [
    "MFC_test['gender'] = MFC_test['gender'].fillna('M')\n",
    "#并对gender进行独热编码\n",
    "MFC_test.loc[MFC_test['gender'] == 'M', 'gender'] = 0 \n",
    "MFC_test.loc[MFC_test['gender'] == 'F', 'gender'] = 1 "
   ]
  },
  {
   "cell_type": "code",
   "execution_count": 529,
   "metadata": {},
   "outputs": [
    {
     "name": "stdout",
     "output_type": "stream",
     "text": [
      "['T' 'Y' 'Z' 'V' 'X' 'U' 'S']\n"
     ]
    }
   ],
   "source": [
    "print(MFC_test['program_type'].unique())"
   ]
  },
  {
   "cell_type": "code",
   "execution_count": 530,
   "metadata": {},
   "outputs": [
    {
     "name": "stdout",
     "output_type": "stream",
     "text": [
      "Y    3479\n",
      "T    2933\n",
      "V    2068\n",
      "U    1229\n",
      "Z    1005\n",
      "X     525\n",
      "S     226\n",
      "Name: program_type, dtype: int64\n"
     ]
    }
   ],
   "source": [
    "type_count1 = MFC_test['program_type'].value_counts()\n",
    "print(type_count1)"
   ]
  },
  {
   "cell_type": "code",
   "execution_count": 531,
   "metadata": {},
   "outputs": [],
   "source": [
    "MFC_test['program_type'] = MFC_test['program_type'].fillna('Y')\n",
    "#并对program_type进行独热编码\n",
    "MFC_test.loc[MFC_test['program_type'] == 'Y', \"program_type\"] = 0 \n",
    "MFC_test.loc[MFC_test['program_type'] == 'T', \"program_type\"] = 1\n",
    "MFC_test.loc[MFC_test['program_type'] == 'V', \"program_type\"] = 2\n",
    "MFC_test.loc[MFC_test['program_type'] == 'U', \"program_type\"] = 3\n",
    "MFC_test.loc[MFC_test['program_type'] == 'Z', \"program_type\"] = 4\n",
    "MFC_test.loc[MFC_test['program_type'] == 'X', \"program_type\"] = 5\n",
    "MFC_test.loc[MFC_test['program_type'] == 'S', \"program_type\"] = 6"
   ]
  },
  {
   "cell_type": "code",
   "execution_count": 532,
   "metadata": {},
   "outputs": [
    {
     "name": "stdout",
     "output_type": "stream",
     "text": [
      "['online' 'offline']\n"
     ]
    }
   ],
   "source": [
    "print(MFC_test['test_type'].unique())"
   ]
  },
  {
   "cell_type": "code",
   "execution_count": 533,
   "metadata": {},
   "outputs": [
    {
     "name": "stdout",
     "output_type": "stream",
     "text": [
      "offline    6830\n",
      "online     4635\n",
      "Name: test_type, dtype: int64\n"
     ]
    }
   ],
   "source": [
    "test_count1 = MFC_test['test_type'].value_counts()\n",
    "print(test_count1)"
   ]
  },
  {
   "cell_type": "code",
   "execution_count": 534,
   "metadata": {},
   "outputs": [],
   "source": [
    "MFC_test['test_type'] = MFC_test['test_type'].fillna('offline')\n",
    "#并对test_type进行独热编码\n",
    "MFC_test.loc[MFC_test['test_type'] == 'offline', \"test_type\"] = 0 \n",
    "MFC_test.loc[MFC_test['test_type'] == 'online', \"test_type\"] = 1 "
   ]
  },
  {
   "cell_type": "code",
   "execution_count": 535,
   "metadata": {},
   "outputs": [
    {
     "name": "stdout",
     "output_type": "stream",
     "text": [
      "['easy' 'intermediate' 'hard' 'vary hard']\n"
     ]
    }
   ],
   "source": [
    "print(MFC_test['difficulty_level'].unique())"
   ]
  },
  {
   "cell_type": "code",
   "execution_count": 536,
   "metadata": {},
   "outputs": [
    {
     "name": "stdout",
     "output_type": "stream",
     "text": [
      "easy            6342\n",
      "intermediate    3196\n",
      "hard            1593\n",
      "vary hard        334\n",
      "Name: difficulty_level, dtype: int64\n"
     ]
    }
   ],
   "source": [
    "level_count1 = MFC_test['difficulty_level'].value_counts()\n",
    "print(level_count1)"
   ]
  },
  {
   "cell_type": "code",
   "execution_count": 537,
   "metadata": {},
   "outputs": [],
   "source": [
    "MFC_test['difficulty_level'] = MFC_test['difficulty_level'].fillna('easy')\n",
    "#并对difficulty_level进行独热编码\n",
    "MFC_test.loc[MFC_test['difficulty_level'] == 'easy', \"difficulty_level\"] = 0 \n",
    "MFC_test.loc[MFC_test['difficulty_level'] == 'intermediate', \"difficulty_level\"] = 1\n",
    "MFC_test.loc[MFC_test['difficulty_level'] == 'hard', \"difficulty_level\"] = 2\n",
    "MFC_test.loc[MFC_test['difficulty_level'] == 'vary hard', \"difficulty_level\"] = 3"
   ]
  },
  {
   "cell_type": "code",
   "execution_count": 538,
   "metadata": {},
   "outputs": [
    {
     "name": "stdout",
     "output_type": "stream",
     "text": [
      "['Bachelors' 'Matriculation' 'High School Diploma' 'No Qualification'\n",
      " 'Masters']\n"
     ]
    }
   ],
   "source": [
    "print(MFC_test['education'].unique())"
   ]
  },
  {
   "cell_type": "code",
   "execution_count": 539,
   "metadata": {},
   "outputs": [
    {
     "name": "stdout",
     "output_type": "stream",
     "text": [
      "High School Diploma    5353\n",
      "Matriculation          4136\n",
      "Bachelors              1810\n",
      "No Qualification         95\n",
      "Masters                  71\n",
      "Name: education, dtype: int64\n"
     ]
    }
   ],
   "source": [
    "edu_count1 = MFC_test['education'].value_counts()\n",
    "print(edu_count1)"
   ]
  },
  {
   "cell_type": "code",
   "execution_count": 540,
   "metadata": {},
   "outputs": [],
   "source": [
    "MFC_test['education'] = MFC_test['education'].fillna('High School Diploma')\n",
    "#并对eduaction进行独热编码\n",
    "MFC_test.loc[MFC_test['education'] == 'High School Diploma', \"education\"] = 0 \n",
    "MFC_test.loc[MFC_test['education'] == 'Matriculation', \"education\"] = 1\n",
    "MFC_test.loc[MFC_test['education'] == 'Bachelors', \"education\"] = 2\n",
    "MFC_test.loc[MFC_test['education'] == 'Masters', \"education\"] = 3\n",
    "MFC_test.loc[MFC_test['education'] == 'No Qualification', \"education\"] = 4"
   ]
  },
  {
   "cell_type": "code",
   "execution_count": 541,
   "metadata": {},
   "outputs": [
    {
     "name": "stdout",
     "output_type": "stream",
     "text": [
      "['T_3' 'Y_2' 'Y_4' 'Z_2' 'T_4' 'Z_3' 'T_2' 'V_4' 'V_2' 'Y_1' 'V_1' 'V_3'\n",
      " 'X_1' 'U_1' 'Y_3' 'T_1' 'Z_1' 'X_3' 'S_1' 'U_2' 'S_2' 'X_2']\n"
     ]
    }
   ],
   "source": [
    "print(MFC_test[\"program_id\"].unique())"
   ]
  },
  {
   "cell_type": "code",
   "execution_count": 542,
   "metadata": {},
   "outputs": [
    {
     "name": "stdout",
     "output_type": "stream",
     "text": [
      "T_3    1034\n",
      "Y_3    1025\n",
      "Y_1    1016\n",
      "Y_4     792\n",
      "T_4     750\n",
      "U_1     739\n",
      "T_2     688\n",
      "V_4     655\n",
      "Y_2     646\n",
      "V_3     569\n",
      "V_1     546\n",
      "U_2     490\n",
      "T_1     461\n",
      "Z_3     409\n",
      "Z_2     332\n",
      "V_2     298\n",
      "Z_1     264\n",
      "X_3     202\n",
      "X_1     188\n",
      "X_2     135\n",
      "S_2     127\n",
      "S_1      99\n",
      "Name: program_id, dtype: int64\n"
     ]
    }
   ],
   "source": [
    "id_count1 = MFC_test['program_id'].value_counts()\n",
    "print(id_count1)"
   ]
  },
  {
   "cell_type": "code",
   "execution_count": 543,
   "metadata": {},
   "outputs": [],
   "source": [
    "MFC_test['program_id'] = MFC_test['program_id'].fillna('Y_1')\n",
    "#并对program_id进行独热编码\n",
    "MFC_test.loc[MFC_test['program_id'] == 'Y_1', \"program_id\"] = 0 \n",
    "MFC_test.loc[MFC_test['program_id'] == 'Y_3', \"program_id\"] = 1\n",
    "MFC_test.loc[MFC_test['program_id'] == 'T_3', \"program_id\"] = 2\n",
    "MFC_test.loc[MFC_test['program_id'] == 'Y_4', \"program_id\"] = 3\n",
    "MFC_test.loc[MFC_test['program_id'] == 'T_4', \"program_id\"] = 4\n",
    "MFC_test.loc[MFC_test['program_id'] == 'U_1', \"program_id\"] = 5\n",
    "MFC_test.loc[MFC_test['program_id'] == 'V_4', \"program_id\"] = 6\n",
    "MFC_test.loc[MFC_test['program_id'] == 'Y_2', \"program_id\"] = 7\n",
    "MFC_test.loc[MFC_test['program_id'] == 'T_2', \"program_id\"] = 8\n",
    "MFC_test.loc[MFC_test['program_id'] == 'V_1', \"program_id\"] = 9\n",
    "MFC_test.loc[MFC_test['program_id'] == 'V_3', \"program_id\"] = 10\n",
    "MFC_test.loc[MFC_test['program_id'] == 'T_1', \"program_id\"] = 11\n",
    "MFC_test.loc[MFC_test['program_id'] == 'U_2', \"program_id\"] = 12\n",
    "MFC_test.loc[MFC_test['program_id'] == 'Z_3', \"program_id\"] = 13\n",
    "MFC_test.loc[MFC_test['program_id'] == 'Z_2', \"program_id\"] = 14\n",
    "MFC_test.loc[MFC_test['program_id'] == 'Z_1', \"program_id\"] = 15\n",
    "MFC_test.loc[MFC_test['program_id'] == 'V_2', \"program_id\"] = 16\n",
    "MFC_test.loc[MFC_test['program_id'] == 'X_1', \"program_id\"] = 17\n",
    "MFC_test.loc[MFC_test['program_id'] == 'X_3', \"program_id\"] = 18\n",
    "MFC_test.loc[MFC_test['program_id'] == 'X_2', \"program_id\"] = 19\n",
    "MFC_test.loc[MFC_test['program_id'] == 'S_2', \"program_id\"] = 20\n",
    "MFC_test.loc[MFC_test['program_id'] == 'S_1', \"program_id\"] = 21"
   ]
  },
  {
   "cell_type": "code",
   "execution_count": 544,
   "metadata": {},
   "outputs": [
    {
     "name": "stdout",
     "output_type": "stream",
     "text": [
      "['N' 'Y']\n"
     ]
    }
   ],
   "source": [
    "print(MFC_test['is_handicapped'].unique())"
   ]
  },
  {
   "cell_type": "code",
   "execution_count": 545,
   "metadata": {},
   "outputs": [
    {
     "name": "stdout",
     "output_type": "stream",
     "text": [
      "N    10454\n",
      "Y     1011\n",
      "Name: is_handicapped, dtype: int64\n"
     ]
    }
   ],
   "source": [
    "hand_count1 = MFC_test['is_handicapped'].value_counts()\n",
    "print(hand_count1)"
   ]
  },
  {
   "cell_type": "code",
   "execution_count": 546,
   "metadata": {},
   "outputs": [],
   "source": [
    "MFC_test['is_handicapped'] = MFC_test['is_handicapped'].fillna('N')\n",
    "#并对is_handicapped进行独热编码\n",
    "MFC_test.loc[MFC_test['is_handicapped'] == 'N', \"is_handicapped\"] = 0 \n",
    "MFC_test.loc[MFC_test['is_handicapped'] == 'Y', \"is_handicapped\"] = 1"
   ]
  },
  {
   "cell_type": "code",
   "execution_count": 547,
   "metadata": {},
   "outputs": [
    {
     "name": "stdout",
     "output_type": "stream",
     "text": [
      "id_num                       False\n",
      "program_type                 False\n",
      "program_id                   False\n",
      "program_duration             False\n",
      "test_id                      False\n",
      "test_type                    False\n",
      "difficulty_level             False\n",
      "trainee_id                   False\n",
      "gender                       False\n",
      "education                    False\n",
      "city_tier                    False\n",
      "age                          False\n",
      "total_programs_enrolled      False\n",
      "is_handicapped               False\n",
      "trainee_engagement_rating    False\n",
      "is_pass                       True\n",
      "dtype: bool\n"
     ]
    }
   ],
   "source": [
    "print(MFC_test.isnull().any())#查看是否还存在缺失值"
   ]
  },
  {
   "cell_type": "markdown",
   "metadata": {},
   "source": [
    "### 将预测值填充进csv中"
   ]
  },
  {
   "cell_type": "code",
   "execution_count": 548,
   "metadata": {},
   "outputs": [],
   "source": [
    "predictions1 = [] \n",
    "for test1 in kf.split(MFC_test):\n",
    "    test_predictions = 模型名(MFC_test[predictors])\n",
    "    predictions1.append(test_predictions)\n",
    "    \n",
    "predictions1 = np.concatenate(predictions1, axis=0)\n",
    "predictions1[predictions1 > 0.5] = 1\n",
    "predictions1[predictions1 <= 0.5] = 0\n"
   ]
  },
  {
   "cell_type": "code",
   "execution_count": 549,
   "metadata": {},
   "outputs": [],
   "source": [
    "MF = MFC_test.drop(['program_type'], axis=1)\n",
    "MF = MF.drop(['program_id'], axis=1)\n",
    "MF = MF.drop(['program_duration'], axis=1)\n",
    "MF = MF.drop(['test_id'], axis=1)\n",
    "MF = MF.drop(['test_type'], axis=1)\n",
    "MF = MF.drop(['difficulty_level'], axis=1)\n",
    "MF = MF.drop(['trainee_id'], axis=1)\n",
    "MF = MF.drop(['gender'], axis=1)\n",
    "MF = MF.drop(['education'], axis=1)\n",
    "MF = MF.drop(['city_tier'], axis=1)\n",
    "MF = MF.drop(['age'], axis=1)\n",
    "MF = MF.drop(['total_programs_enrolled'], axis=1)\n",
    "MF = MF.drop(['is_handicapped'], axis=1)\n",
    "MF = MF.drop(['trainee_engagement_rating'], axis=1)\n"
   ]
  },
  {
   "cell_type": "code",
   "execution_count": 550,
   "metadata": {},
   "outputs": [],
   "source": [
    "re_list = []\n",
    "for i in predictions1:\n",
    "   re_list.append(i) "
   ]
  },
  {
   "cell_type": "code",
   "execution_count": 551,
   "metadata": {},
   "outputs": [],
   "source": [
    "for i in range(0,11464):\n",
    "    MF['is_pass'].at[i] = re_list[i]#将预测值填充进测试数据集里面去\n"
   ]
  },
  {
   "cell_type": "code",
   "execution_count": 552,
   "metadata": {},
   "outputs": [
    {
     "data": {
      "text/html": [
       "<div>\n",
       "<style scoped>\n",
       "    .dataframe tbody tr th:only-of-type {\n",
       "        vertical-align: middle;\n",
       "    }\n",
       "\n",
       "    .dataframe tbody tr th {\n",
       "        vertical-align: top;\n",
       "    }\n",
       "\n",
       "    .dataframe thead th {\n",
       "        text-align: right;\n",
       "    }\n",
       "</style>\n",
       "<table border=\"1\" class=\"dataframe\">\n",
       "  <thead>\n",
       "    <tr style=\"text-align: right;\">\n",
       "      <th></th>\n",
       "      <th>id_num</th>\n",
       "      <th>is_pass</th>\n",
       "    </tr>\n",
       "  </thead>\n",
       "  <tbody>\n",
       "    <tr>\n",
       "      <th>0</th>\n",
       "      <td>4753_31</td>\n",
       "      <td>1.0</td>\n",
       "    </tr>\n",
       "    <tr>\n",
       "      <th>1</th>\n",
       "      <td>10816_148</td>\n",
       "      <td>1.0</td>\n",
       "    </tr>\n",
       "    <tr>\n",
       "      <th>2</th>\n",
       "      <td>7498_114</td>\n",
       "      <td>1.0</td>\n",
       "    </tr>\n",
       "    <tr>\n",
       "      <th>3</th>\n",
       "      <td>14139_175</td>\n",
       "      <td>1.0</td>\n",
       "    </tr>\n",
       "    <tr>\n",
       "      <th>4</th>\n",
       "      <td>11305_25</td>\n",
       "      <td>1.0</td>\n",
       "    </tr>\n",
       "    <tr>\n",
       "      <th>...</th>\n",
       "      <td>...</td>\n",
       "      <td>...</td>\n",
       "    </tr>\n",
       "    <tr>\n",
       "      <th>11460</th>\n",
       "      <td>1612_108</td>\n",
       "      <td>1.0</td>\n",
       "    </tr>\n",
       "    <tr>\n",
       "      <th>11461</th>\n",
       "      <td>17726_44</td>\n",
       "      <td>1.0</td>\n",
       "    </tr>\n",
       "    <tr>\n",
       "      <th>11462</th>\n",
       "      <td>8272_131</td>\n",
       "      <td>1.0</td>\n",
       "    </tr>\n",
       "    <tr>\n",
       "      <th>11463</th>\n",
       "      <td>10621_166</td>\n",
       "      <td>1.0</td>\n",
       "    </tr>\n",
       "    <tr>\n",
       "      <th>11464</th>\n",
       "      <td>2465_48</td>\n",
       "      <td>NaN</td>\n",
       "    </tr>\n",
       "  </tbody>\n",
       "</table>\n",
       "<p>11465 rows × 2 columns</p>\n",
       "</div>"
      ],
      "text/plain": [
       "          id_num  is_pass\n",
       "0        4753_31      1.0\n",
       "1      10816_148      1.0\n",
       "2       7498_114      1.0\n",
       "3      14139_175      1.0\n",
       "4       11305_25      1.0\n",
       "...          ...      ...\n",
       "11460   1612_108      1.0\n",
       "11461   17726_44      1.0\n",
       "11462   8272_131      1.0\n",
       "11463  10621_166      1.0\n",
       "11464    2465_48      NaN\n",
       "\n",
       "[11465 rows x 2 columns]"
      ]
     },
     "execution_count": 552,
     "metadata": {},
     "output_type": "execute_result"
    }
   ],
   "source": [
    "MF.head(11684) #查看是否将['is_pass']的预测值填充进去"
   ]
  },
  {
   "cell_type": "code",
   "execution_count": 553,
   "metadata": {},
   "outputs": [],
   "source": [
    "MF.to_csv(\"submission1_1.csv\",index = False)"
   ]
  },
  {
   "cell_type": "code",
   "execution_count": null,
   "metadata": {},
   "outputs": [],
   "source": []
  }
 ],
 "metadata": {
  "kernelspec": {
   "display_name": "Python 3",
   "language": "python",
   "name": "python3"
  },
  "language_info": {
   "codemirror_mode": {
    "name": "ipython",
    "version": 3
   },
   "file_extension": ".py",
   "mimetype": "text/x-python",
   "name": "python",
   "nbconvert_exporter": "python",
   "pygments_lexer": "ipython3",
   "version": "3.8.5"
  }
 },
 "nbformat": 4,
 "nbformat_minor": 4
}
